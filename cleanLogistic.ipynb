{
 "cells": [
  {
   "cell_type": "markdown",
   "metadata": {
    "id": "PTnym1M2buLI"
   },
   "source": [
    "# ML Project phase 2 - Sarcasm detection\n",
    "---\n"
   ]
  },
  {
   "cell_type": "code",
   "execution_count": null,
   "metadata": {
    "execution": {
     "iopub.execute_input": "2021-07-16T17:41:36.682863Z",
     "iopub.status.busy": "2021-07-16T17:41:36.682478Z",
     "iopub.status.idle": "2021-07-16T17:42:01.186363Z",
     "shell.execute_reply": "2021-07-16T17:42:01.185268Z",
     "shell.execute_reply.started": "2021-07-16T17:41:36.682782Z"
    },
    "id": "EkdER5pjbuLL",
    "outputId": "c8fe3b10-2fca-455d-9eda-9c70281cdca0"
   },
   "outputs": [],
   "source": [
    "import pandas as pd\n",
    "import numpy as np\n",
    "from matplotlib import pyplot as plt\n",
    "import seaborn as sns\n",
    "import warnings\n",
    "warnings.filterwarnings('ignore')\n",
    "\n",
    "!pip install contractions\n",
    "import contractions\n",
    "import re\n",
    "import nltk\n",
    "import tensorflow as tf\n",
    "!pip install gensim\n",
    "import gensim\n",
    "from nltk.corpus import stopwords"
   ]
  },
  {
   "cell_type": "code",
   "execution_count": null,
   "metadata": {
    "id": "Zp06KBtTDUHq",
    "outputId": "b74ccabc-6554-4530-9e94-cd106bb06c72"
   },
   "outputs": [],
   "source": [
    "from google.colab import drive\n",
    "drive.mount('/content/drive')\n",
    "data = pd.read_csv('drive/MyDrive/Temp/sarcasm_train_set.csv')"
   ]
  },
  {
   "cell_type": "markdown",
   "metadata": {
    "id": "XGfH8mxYbuLV"
   },
   "source": [
    "* **Droping rows with missing comment:**"
   ]
  },
  {
   "cell_type": "code",
   "execution_count": 4,
   "metadata": {
    "execution": {
     "iopub.execute_input": "2021-07-16T17:42:08.081453Z",
     "iopub.status.busy": "2021-07-16T17:42:08.081031Z",
     "iopub.status.idle": "2021-07-16T17:42:08.356048Z",
     "shell.execute_reply": "2021-07-16T17:42:08.355100Z",
     "shell.execute_reply.started": "2021-07-16T17:42:08.081408Z"
    },
    "id": "yprJLSzgbuLW"
   },
   "outputs": [],
   "source": [
    "data.dropna(subset=['comment'], inplace=True)"
   ]
  },
  {
   "cell_type": "code",
   "execution_count": 6,
   "metadata": {
    "execution": {
     "iopub.execute_input": "2021-07-16T17:42:08.619336Z",
     "iopub.status.busy": "2021-07-16T17:42:08.618925Z",
     "iopub.status.idle": "2021-07-16T17:42:11.398321Z",
     "shell.execute_reply": "2021-07-16T17:42:11.397367Z",
     "shell.execute_reply.started": "2021-07-16T17:42:08.619292Z"
    },
    "id": "IQ6Eqi6pIE_1"
   },
   "outputs": [],
   "source": [
    "raw_data = data['comment']\n",
    "raw_sentences = [[word for word in document.lower().split()] for document in raw_data]"
   ]
  },
  {
   "cell_type": "markdown",
   "metadata": {
    "id": "_3rI7UJ2zwdw"
   },
   "source": [
    "---"
   ]
  },
  {
   "cell_type": "code",
   "execution_count": 7,
   "metadata": {
    "execution": {
     "iopub.execute_input": "2021-07-16T17:42:40.586218Z",
     "iopub.status.busy": "2021-07-16T17:42:40.585902Z",
     "iopub.status.idle": "2021-07-16T17:43:12.987202Z",
     "shell.execute_reply": "2021-07-16T17:43:12.986267Z",
     "shell.execute_reply.started": "2021-07-16T17:42:40.586187Z"
    }
   },
   "outputs": [],
   "source": [
    "from sklearn.feature_extraction.text import TfidfVectorizer\n",
    " \n",
    "vectorizer = TfidfVectorizer(ngram_range=(1, 2), max_features=100000, min_df=2)\n",
    "raw_x_itf = vectorizer.fit_transform(raw_data)"
   ]
  },
  {
   "cell_type": "code",
   "execution_count": 8,
   "metadata": {
    "execution": {
     "iopub.execute_input": "2021-07-16T17:43:12.989428Z",
     "iopub.status.busy": "2021-07-16T17:43:12.989012Z",
     "iopub.status.idle": "2021-07-16T17:43:29.564300Z",
     "shell.execute_reply": "2021-07-16T17:43:29.563417Z",
     "shell.execute_reply.started": "2021-07-16T17:43:12.989388Z"
    }
   },
   "outputs": [
    {
     "data": {
      "text/plain": [
       "LogisticRegression(solver='liblinear')"
      ]
     },
     "execution_count": 8,
     "metadata": {},
     "output_type": "execute_result"
    }
   ],
   "source": [
    "from sklearn.linear_model import LogisticRegression\n",
    "from sklearn.model_selection import train_test_split\n",
    "y=data['label']\n",
    "\n",
    "x_train, x_val, y_train, y_val = train_test_split(raw_x_itf, y, test_size=0.2, random_state=12)\n",
    "clf = LogisticRegression(solver='liblinear')\n",
    "clf.fit(x_train, y_train)"
   ]
  },
  {
   "cell_type": "code",
   "execution_count": 11,
   "metadata": {
    "execution": {
     "iopub.execute_input": "2021-07-16T17:44:30.833955Z",
     "iopub.status.busy": "2021-07-16T17:44:30.833593Z",
     "iopub.status.idle": "2021-07-16T17:44:30.943297Z",
     "shell.execute_reply": "2021-07-16T17:44:30.942194Z",
     "shell.execute_reply.started": "2021-07-16T17:44:30.833919Z"
    }
   },
   "outputs": [
    {
     "name": "stdout",
     "output_type": "stream",
     "text": [
      "Accuracy score:  0.7226001979218208\n",
      "F1 score:        0.7116497364022116\n"
     ]
    }
   ],
   "source": [
    "pred = clf.predict(x_val)\n",
    "print('Accuracy score: ', met.accuracy_score(pred, y_val))\n",
    "print('F1 score:       ', met.f1_score(pred, y_val))"
   ]
  },
  {
   "cell_type": "code",
   "execution_count": 12,
   "metadata": {
    "execution": {
     "iopub.execute_input": "2021-07-16T17:44:33.427780Z",
     "iopub.status.busy": "2021-07-16T17:44:33.427453Z",
     "iopub.status.idle": "2021-07-16T17:44:42.701607Z",
     "shell.execute_reply": "2021-07-16T17:44:42.700705Z",
     "shell.execute_reply.started": "2021-07-16T17:44:33.427751Z"
    }
   },
   "outputs": [],
   "source": [
    "test.dropna(subset=['comment'], inplace=True) \n",
    "test_itf = vectorizer.fit_transform(test['comment'])\n",
    "y_test = test['label']"
   ]
  },
  {
   "cell_type": "code",
   "execution_count": 13,
   "metadata": {
    "execution": {
     "iopub.execute_input": "2021-07-16T17:44:42.703268Z",
     "iopub.status.busy": "2021-07-16T17:44:42.702940Z",
     "iopub.status.idle": "2021-07-16T17:44:42.816793Z",
     "shell.execute_reply": "2021-07-16T17:44:42.815859Z",
     "shell.execute_reply.started": "2021-07-16T17:44:42.703223Z"
    }
   },
   "outputs": [
    {
     "name": "stdout",
     "output_type": "stream",
     "text": [
      "Accuracy score:  0.5135418262317601\n",
      "F1 score:        0.31299808790073835\n"
     ]
    }
   ],
   "source": [
    "pred = clf.predict(test_itf)\n",
    "print('Accuracy score: ', met.accuracy_score(pred, y_test))\n",
    "print('F1 score:       ', met.f1_score(pred, y_test))"
   ]
  },
  {
   "cell_type": "code",
   "execution_count": 14,
   "metadata": {
    "execution": {
     "iopub.execute_input": "2021-07-16T17:47:55.473143Z",
     "iopub.status.busy": "2021-07-16T17:47:55.472798Z",
     "iopub.status.idle": "2021-07-16T17:47:55.740192Z",
     "shell.execute_reply": "2021-07-16T17:47:55.739376Z",
     "shell.execute_reply.started": "2021-07-16T17:47:55.473115Z"
    }
   },
   "outputs": [
    {
     "data": {
      "text/plain": [
       "array([[81501, 78851],\n",
       "       [19595, 22426]])"
      ]
     },
     "execution_count": 14,
     "metadata": {},
     "output_type": "execute_result"
    }
   ],
   "source": [
    "met.confusion_matrix(pred, y_test)"
   ]
  }
 ],
 "metadata": {
  "kernelspec": {
   "display_name": "Python 3",
   "language": "python",
   "name": "python3"
  },
  "language_info": {
   "codemirror_mode": {
    "name": "ipython",
    "version": 3
   },
   "file_extension": ".py",
   "mimetype": "text/x-python",
   "name": "python",
   "nbconvert_exporter": "python",
   "pygments_lexer": "ipython3",
   "version": "3.9.1"
  }
 },
 "nbformat": 4,
 "nbformat_minor": 4
}
